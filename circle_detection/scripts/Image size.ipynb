{
 "cells": [
  {
   "cell_type": "code",
   "execution_count": 11,
   "metadata": {},
   "outputs": [],
   "source": [
    "from IPython.display import Image, display\n",
    "import numpy as np\n",
    "import glob\n",
    "import cv2\n",
    "import pandas as pd\n",
    "\n",
    "df = pd.read_csv(\"../../storage/data_Labels.csv\")\n",
    "df = df[[\"ID\", \"RP\"]]"
   ]
  },
  {
   "cell_type": "code",
   "execution_count": 12,
   "metadata": {},
   "outputs": [],
   "source": [
    "files = df[\"ID\"].tolist()\n",
    "folder_path = \"../../storage/data/\""
   ]
  },
  {
   "cell_type": "code",
   "execution_count": 14,
   "metadata": {},
   "outputs": [
    {
     "data": {
      "text/plain": [
       "688"
      ]
     },
     "execution_count": 14,
     "metadata": {},
     "output_type": "execute_result"
    }
   ],
   "source": [
    "size = []\n",
    "data_list = []\n",
    "for i in range(len(files)):\n",
    "    path = folder_path + files[i][:-4]+\".jpg\"\n",
    "    # Load data\n",
    "    img = cv2.imread(path)\n",
    "    height,width = img.shape[:2]\n",
    "    size.append([height,width])\n",
    "    data_list.append([files[i],height,width])\n",
    "len(data_list)"
   ]
  },
  {
   "cell_type": "code",
   "execution_count": 15,
   "metadata": {},
   "outputs": [
    {
     "data": {
      "text/html": [
       "<div>\n",
       "<style scoped>\n",
       "    .dataframe tbody tr th:only-of-type {\n",
       "        vertical-align: middle;\n",
       "    }\n",
       "\n",
       "    .dataframe tbody tr th {\n",
       "        vertical-align: top;\n",
       "    }\n",
       "\n",
       "    .dataframe thead th {\n",
       "        text-align: right;\n",
       "    }\n",
       "</style>\n",
       "<table border=\"1\" class=\"dataframe\">\n",
       "  <thead>\n",
       "    <tr style=\"text-align: right;\">\n",
       "      <th></th>\n",
       "      <th>ID</th>\n",
       "      <th>height</th>\n",
       "      <th>width</th>\n",
       "    </tr>\n",
       "  </thead>\n",
       "  <tbody>\n",
       "    <tr>\n",
       "      <th>0</th>\n",
       "      <td>1_20130812_132022_l_カラー眼底.png</td>\n",
       "      <td>1312</td>\n",
       "      <td>2000</td>\n",
       "    </tr>\n",
       "    <tr>\n",
       "      <th>1</th>\n",
       "      <td>1_20130812_132022_r_カラー眼底.png</td>\n",
       "      <td>1312</td>\n",
       "      <td>2000</td>\n",
       "    </tr>\n",
       "    <tr>\n",
       "      <th>2</th>\n",
       "      <td>2_20130225_104034_r_カラー眼底.png</td>\n",
       "      <td>1024</td>\n",
       "      <td>1360</td>\n",
       "    </tr>\n",
       "    <tr>\n",
       "      <th>3</th>\n",
       "      <td>2_20130225_104034_l_カラー眼底.png</td>\n",
       "      <td>1024</td>\n",
       "      <td>1360</td>\n",
       "    </tr>\n",
       "    <tr>\n",
       "      <th>4</th>\n",
       "      <td>3_20180417_115422_r_カラー眼底.png</td>\n",
       "      <td>2448</td>\n",
       "      <td>3696</td>\n",
       "    </tr>\n",
       "    <tr>\n",
       "      <th>...</th>\n",
       "      <td>...</td>\n",
       "      <td>...</td>\n",
       "      <td>...</td>\n",
       "    </tr>\n",
       "    <tr>\n",
       "      <th>683</th>\n",
       "      <td>c100_20200925_151036_l_カラー眼底.png</td>\n",
       "      <td>2448</td>\n",
       "      <td>3696</td>\n",
       "    </tr>\n",
       "    <tr>\n",
       "      <th>684</th>\n",
       "      <td>c101_20210208_161522_l_カラー眼底.png</td>\n",
       "      <td>2448</td>\n",
       "      <td>3696</td>\n",
       "    </tr>\n",
       "    <tr>\n",
       "      <th>685</th>\n",
       "      <td>c102_20220118_111409_r_カラー眼底.png</td>\n",
       "      <td>2448</td>\n",
       "      <td>3696</td>\n",
       "    </tr>\n",
       "    <tr>\n",
       "      <th>686</th>\n",
       "      <td>c103_20211116_120920_r_カラー眼底.png</td>\n",
       "      <td>2448</td>\n",
       "      <td>3696</td>\n",
       "    </tr>\n",
       "    <tr>\n",
       "      <th>687</th>\n",
       "      <td>c104_20211116_120920_l_カラー眼底.png</td>\n",
       "      <td>2448</td>\n",
       "      <td>3696</td>\n",
       "    </tr>\n",
       "  </tbody>\n",
       "</table>\n",
       "<p>688 rows × 3 columns</p>\n",
       "</div>"
      ],
      "text/plain": [
       "                                   ID  height  width\n",
       "0       1_20130812_132022_l_カラー眼底.png    1312   2000\n",
       "1       1_20130812_132022_r_カラー眼底.png    1312   2000\n",
       "2       2_20130225_104034_r_カラー眼底.png    1024   1360\n",
       "3       2_20130225_104034_l_カラー眼底.png    1024   1360\n",
       "4       3_20180417_115422_r_カラー眼底.png    2448   3696\n",
       "..                                ...     ...    ...\n",
       "683  c100_20200925_151036_l_カラー眼底.png    2448   3696\n",
       "684  c101_20210208_161522_l_カラー眼底.png    2448   3696\n",
       "685  c102_20220118_111409_r_カラー眼底.png    2448   3696\n",
       "686  c103_20211116_120920_r_カラー眼底.png    2448   3696\n",
       "687  c104_20211116_120920_l_カラー眼底.png    2448   3696\n",
       "\n",
       "[688 rows x 3 columns]"
      ]
     },
     "execution_count": 15,
     "metadata": {},
     "output_type": "execute_result"
    }
   ],
   "source": [
    "columns = [\"ID\",\"height\",\"width\"]\n",
    "data = pd.DataFrame(data_list,columns = columns)\n",
    "data.to_csv(\"Image_Size.csv\",index= False)\n",
    "data"
   ]
  },
  {
   "cell_type": "code",
   "execution_count": 16,
   "metadata": {},
   "outputs": [
    {
     "name": "stdout",
     "output_type": "stream",
     "text": [
      "Image Type: 4\n",
      "Image Size: {(1200, 872), (3696, 2448), (2000, 1312), (1360, 1024)}\n"
     ]
    }
   ],
   "source": [
    "import os\n",
    "from PIL import Image\n",
    "\n",
    "# Load data\n",
    "dataset_dir = \"../../storage/data\"\n",
    "\n",
    "# Get the all image sizes\n",
    "image_sizes = set()\n",
    "for filename in os.listdir(dataset_dir):\n",
    "    if filename.endswith('.png') or filename.endswith('.jpg'):\n",
    "        image_path = os.path.join(dataset_dir, filename)\n",
    "        with Image.open(image_path) as img:\n",
    "            image_sizes.add(img.size)\n",
    "\n",
    "# Print image size\n",
    "print(\"Image Type:\", len(image_sizes))\n",
    "print(\"Image Size:\", image_sizes)"
   ]
  },
  {
   "cell_type": "code",
   "execution_count": null,
   "metadata": {},
   "outputs": [],
   "source": []
  }
 ],
 "metadata": {
  "kernelspec": {
   "display_name": "ophthalmology",
   "language": "python",
   "name": "python3"
  },
  "language_info": {
   "codemirror_mode": {
    "name": "ipython",
    "version": 3
   },
   "file_extension": ".py",
   "mimetype": "text/x-python",
   "name": "python",
   "nbconvert_exporter": "python",
   "pygments_lexer": "ipython3",
   "version": "3.8.3"
  },
  "orig_nbformat": 4
 },
 "nbformat": 4,
 "nbformat_minor": 2
}
